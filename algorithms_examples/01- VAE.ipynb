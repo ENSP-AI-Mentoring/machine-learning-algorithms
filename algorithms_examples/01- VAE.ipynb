{
 "cells": [
  {
   "cell_type": "markdown",
   "id": "9c68fe5b-d55e-468c-b06e-90d3a660c4c7",
   "metadata": {},
   "source": [
    "## Install if necessary torchnet and torch"
   ]
  },
  {
   "cell_type": "markdown",
   "id": "0a95377d-de70-4818-ba51-45576d90972f",
   "metadata": {},
   "source": [
    "!pip install torch --user\n",
    "!pip install torchnet --user"
   ]
  },
  {
   "cell_type": "markdown",
   "id": "0d713b26-7bda-46af-9968-bf8eeede4f6f",
   "metadata": {},
   "source": [
    "## Load library"
   ]
  },
  {
   "cell_type": "code",
   "execution_count": 1,
   "id": "750416d1-f52b-45b0-af0b-0c0b84f46655",
   "metadata": {},
   "outputs": [],
   "source": [
    "import numpy as np\n",
    "\n",
    "import torch\n",
    "import torch.nn.functional as F\n",
    "\n",
    "from algorithms.vae import VAE"
   ]
  },
  {
   "cell_type": "markdown",
   "id": "ae394847-e6a4-4736-8692-903e1f6314be",
   "metadata": {},
   "source": [
    "## VAE"
   ]
  },
  {
   "cell_type": "markdown",
   "id": "3736433c-c106-4c2c-88ce-0c97fc00b532",
   "metadata": {},
   "source": [
    "Learn more [here](https://towardsdatascience.com/understanding-variational-autoencoders-vaes-f70510919f73)\n",
    "\n",
    "Code source [here](https://github.com/shib0li/VAE-torch)"
   ]
  },
  {
   "cell_type": "markdown",
   "id": "8b39b5e3-cf56-412f-a93e-9d63eac567f1",
   "metadata": {},
   "source": [
    "# ![](https://miro.medium.com/max/1400/1*Q5dogodt3wzKKktE0v3dMQ@2x.png)"
   ]
  },
  {
   "cell_type": "markdown",
   "id": "88147637-545a-46c0-906e-c95ac961895c",
   "metadata": {},
   "source": [
    "## Load data and split into train and test set"
   ]
  },
  {
   "cell_type": "code",
   "execution_count": 2,
   "id": "79014ca2-c32d-40a7-9b37-41cf541c6e58",
   "metadata": {},
   "outputs": [],
   "source": [
    "import torchvision.datasets as datasets"
   ]
  },
  {
   "cell_type": "code",
   "execution_count": 3,
   "id": "4f7f10d6",
   "metadata": {},
   "outputs": [],
   "source": [
    "mnist_trainset = datasets.MNIST(root='./dataset', train=True, download=True, transform=None)"
   ]
  },
  {
   "cell_type": "code",
   "execution_count": 4,
   "id": "900019f4",
   "metadata": {},
   "outputs": [
    {
     "data": {
      "text/plain": [
       "60000"
      ]
     },
     "execution_count": 4,
     "metadata": {},
     "output_type": "execute_result"
    }
   ],
   "source": [
    "len(mnist_trainset)"
   ]
  },
  {
   "cell_type": "code",
   "execution_count": 5,
   "id": "1ec1e04e",
   "metadata": {},
   "outputs": [
    {
     "data": {
      "text/plain": [
       "(<PIL.Image.Image image mode=L size=28x28 at 0x7F6D884440A0>, 5)"
      ]
     },
     "execution_count": 5,
     "metadata": {},
     "output_type": "execute_result"
    }
   ],
   "source": [
    "mnist_trainset[0]"
   ]
  },
  {
   "cell_type": "code",
   "execution_count": 6,
   "id": "7f0d6f5f",
   "metadata": {},
   "outputs": [],
   "source": [
    "from PIL import Image"
   ]
  },
  {
   "cell_type": "code",
   "execution_count": 7,
   "id": "e9d42429",
   "metadata": {},
   "outputs": [
    {
     "data": {
      "image/png": "[encoded data removed]",
      "text/plain": [
       "<PIL.Image.Image image mode=L size=28x28 at 0x7F6D88444160>"
      ]
     },
     "metadata": {},
     "output_type": "display_data"
    }
   ],
   "source": [
    "mnist_trainset[0][0].show()"
   ]
  },
  {
   "cell_type": "code",
   "execution_count": 8,
   "id": "bbf101bf",
   "metadata": {},
   "outputs": [
    {
     "data": {
      "image/png": "[encoded data removed]",
      "text/plain": [
       "<PIL.Image.Image image mode=L size=28x28 at 0x7F6D22250370>"
      ]
     },
     "metadata": {},
     "output_type": "display_data"
    }
   ],
   "source": [
    "mnist_trainset[7][0].show()"
   ]
  },
  {
   "cell_type": "code",
   "execution_count": 9,
   "id": "1ff06efa",
   "metadata": {},
   "outputs": [],
   "source": [
    "mnist_testset = datasets.MNIST(root='./dataset', train=False, download=True, transform=None)"
   ]
  },
  {
   "cell_type": "code",
   "execution_count": 10,
   "id": "33153be2",
   "metadata": {},
   "outputs": [
    {
     "data": {
      "image/png": "[encoded data removed]",
      "text/plain": [
       "<PIL.Image.Image image mode=L size=28x28 at 0x7F6DD00C4C40>"
      ]
     },
     "metadata": {},
     "output_type": "display_data"
    }
   ],
   "source": [
    "mnist_testset[0][0].show()"
   ]
  },
  {
   "cell_type": "code",
   "execution_count": 11,
   "id": "507fad9a",
   "metadata": {},
   "outputs": [
    {
     "data": {
      "text/plain": [
       "(28, 28)"
      ]
     },
     "execution_count": 11,
     "metadata": {},
     "output_type": "execute_result"
    }
   ],
   "source": [
    "np.array(mnist_testset[0][0]).shape"
   ]
  },
  {
   "cell_type": "code",
   "execution_count": 12,
   "id": "a64d0c53",
   "metadata": {},
   "outputs": [
    {
     "name": "stdout",
     "output_type": "stream",
     "text": [
      "[[  0   0   0   0   0   0   0   0   0   0]\n",
      " [  0   0   0   0   0   0   0   0   0   0]\n",
      " [  0   0   0   0   0   0   0   0   0   0]\n",
      " [  0   0   0   0   0   0   0   0   0   0]\n",
      " [  0   0   0   0   0   0   0   0   0   0]\n",
      " [  0   0   0   0   0   0   0   0   0   0]\n",
      " [  0   0   0   0   0   0   0   0   0   0]\n",
      " [  0   0   0   0   0   0  84 185 159 151]\n",
      " [  0   0   0   0   0   0 222 254 254 254]\n",
      " [  0   0   0   0   0   0  67 114  72 114]]\n"
     ]
    }
   ],
   "source": [
    "print(np.array(mnist_testset[0][0])[0:10, 0:10])"
   ]
  },
  {
   "cell_type": "code",
   "execution_count": 13,
   "id": "927f2fe5-bf2c-433d-9fbe-68c2eb12c3e6",
   "metadata": {},
   "outputs": [],
   "source": [
    "X_train = np.array([\n",
    "    np.array(data)/255 for data, _ in mnist_trainset\n",
    "])\n",
    "data_dim = 28*28 # each image is size 28 * 28"
   ]
  },
  {
   "cell_type": "code",
   "execution_count": 14,
   "id": "ad09b3cc",
   "metadata": {},
   "outputs": [],
   "source": [
    "X_test = np.array([\n",
    "    np.array(data)/255 for data, _ in mnist_testset\n",
    "])"
   ]
  },
  {
   "cell_type": "code",
   "execution_count": 15,
   "id": "88c846da-07f0-4f45-8564-1d2c20512a35",
   "metadata": {
    "tags": []
   },
   "outputs": [],
   "source": [
    "X_train = torch.tensor(X_train, dtype=torch.float)\n",
    "X_test = torch.tensor(X_test, dtype=torch.float)"
   ]
  },
  {
   "cell_type": "code",
   "execution_count": 16,
   "id": "a00aaa62-4a57-4034-b781-aa9093b0b819",
   "metadata": {},
   "outputs": [
    {
     "name": "stdout",
     "output_type": "stream",
     "text": [
      "You use GPU !\n"
     ]
    }
   ],
   "source": [
    "if torch.cuda.is_available():\n",
    "    print('You use GPU !')\n",
    "    device = torch.device('cuda')\n",
    "else:\n",
    "    print('You use CPU !')\n",
    "    device = torch.device('cpu')"
   ]
  },
  {
   "cell_type": "markdown",
   "id": "ed482981-1bcd-4f4d-914f-5672308ac9a3",
   "metadata": {},
   "source": [
    "## Model configuration"
   ]
  },
  {
   "cell_type": "code",
   "execution_count": 17,
   "id": "887c1251-b577-443c-ad8f-4e465ade376f",
   "metadata": {},
   "outputs": [],
   "source": [
    "in_dim = 28*28 # each image is size 28 * 28\n",
    "encoder_width = 128\n",
    "decoder_width = 128\n",
    "latent_dim = 32"
   ]
  },
  {
   "cell_type": "code",
   "execution_count": 18,
   "id": "143a3727-f285-469c-b4b9-e6fb7d18e799",
   "metadata": {},
   "outputs": [],
   "source": [
    "batch_size=256\n",
    "max_epoch=60\n",
    "lr= 0.001\n",
    "weight_decay = 0.0075"
   ]
  },
  {
   "cell_type": "code",
   "execution_count": 19,
   "id": "c865133b",
   "metadata": {},
   "outputs": [
    {
     "data": {
      "text/plain": [
       "torch.Size([28, 28])"
      ]
     },
     "execution_count": 19,
     "metadata": {},
     "output_type": "execute_result"
    }
   ],
   "source": [
    "data = next(iter(X_train))\n",
    "data.size()\n"
   ]
  },
  {
   "cell_type": "markdown",
   "id": "d3e27d37-d8f6-404a-8d2c-be405e76ac30",
   "metadata": {},
   "source": [
    "## Train"
   ]
  },
  {
   "cell_type": "code",
   "execution_count": 20,
   "id": "89d24d8f-cf07-4e74-99cc-dc5c058f53d7",
   "metadata": {},
   "outputs": [
    {
     "name": "stderr",
     "output_type": "stream",
     "text": [
      "100%|██████████| 60/60 [00:45<00:00,  1.32it/s, val_loss=117, epoch=59]\n"
     ]
    }
   ],
   "source": [
    "# config model\n",
    "model = VAE(X_train, X_test, in_dim, encoder_width, decoder_width, latent_dim, device)\n",
    "# train VAE\n",
    "hist_loss = model.train(batch_size, max_epoch, lr, weight_decay)"
   ]
  },
  {
   "cell_type": "code",
   "execution_count": 21,
   "id": "2e78b6f3-8cfe-4be2-9a17-778f8682fb02",
   "metadata": {},
   "outputs": [],
   "source": [
    "np.savetxt('./dataset/loss.csv', hist_loss, delimiter=',')"
   ]
  },
  {
   "cell_type": "markdown",
   "id": "11b5a2da-1197-465b-9869-cc587c9d4f3b",
   "metadata": {},
   "source": [
    "## Generate new data"
   ]
  },
  {
   "cell_type": "code",
   "execution_count": 22,
   "id": "53fa95db-b539-4919-943b-c01deda0612f",
   "metadata": {},
   "outputs": [],
   "source": [
    "X_generated = model.test2(1)"
   ]
  },
  {
   "cell_type": "code",
   "execution_count": 23,
   "id": "fd4eddb8-b397-45c2-b837-eb4d4355b119",
   "metadata": {},
   "outputs": [
    {
     "data": {
      "text/plain": [
       "torch.Size([28, 28])"
      ]
     },
     "execution_count": 23,
     "metadata": {},
     "output_type": "execute_result"
    }
   ],
   "source": [
    "X_generated[0].size()"
   ]
  },
  {
   "cell_type": "code",
   "execution_count": 24,
   "id": "29f2a2a2-7fd6-4abe-a06f-4b45db4902c8",
   "metadata": {},
   "outputs": [
    {
     "data": {
      "image/png": "[encoded data removed]",
      "text/plain": [
       "<PIL.Image.Image image mode=L size=28x28 at 0x7F6D2228E4C0>"
      ]
     },
     "metadata": {},
     "output_type": "display_data"
    }
   ],
   "source": [
    "image = Image.fromarray((X_generated[0]*255).cpu().detach().numpy())\n",
    "image.show()"
   ]
  },
  {
   "cell_type": "code",
   "execution_count": 25,
   "id": "f2c274a5",
   "metadata": {},
   "outputs": [],
   "source": [
    "X_generated = model.test2(50) # generer 50 images"
   ]
  },
  {
   "cell_type": "code",
   "execution_count": 26,
   "id": "afa67f42",
   "metadata": {},
   "outputs": [
    {
     "data": {
      "image/png": "[encoded data removed]",
      "text/plain": [
       "<PIL.Image.Image image mode=L size=28x28 at 0x7F6D24F2F220>"
      ]
     },
     "metadata": {},
     "output_type": "display_data"
    }
   ],
   "source": [
    "image = Image.fromarray((X_generated[10]*255).cpu().detach().numpy())\n",
    "image.show()"
   ]
  },
  {
   "cell_type": "code",
   "execution_count": 27,
   "id": "1a082749",
   "metadata": {},
   "outputs": [
    {
     "data": {
      "image/png": "[encoded data removed]",
      "text/plain": [
       "<PIL.Image.Image image mode=L size=28x28 at 0x7F6D2606AB50>"
      ]
     },
     "metadata": {},
     "output_type": "display_data"
    }
   ],
   "source": [
    "image = Image.fromarray((X_generated[20]*255).cpu().detach().numpy())\n",
    "image.show()"
   ]
  },
  {
   "cell_type": "code",
   "execution_count": 28,
   "id": "6e559cbe",
   "metadata": {},
   "outputs": [
    {
     "data": {
      "image/png": "[encoded data removed]",
      "text/plain": [
       "<PIL.Image.Image image mode=L size=28x28 at 0x7F6D22273700>"
      ]
     },
     "metadata": {},
     "output_type": "display_data"
    }
   ],
   "source": [
    "image = Image.fromarray((X_generated[30]*255).cpu().detach().numpy())\n",
    "image.show()"
   ]
  },
  {
   "cell_type": "code",
   "execution_count": 29,
   "id": "6367a443",
   "metadata": {},
   "outputs": [
    {
     "data": {
      "image/png": "[encoded data removed]",
      "text/plain": [
       "<PIL.Image.Image image mode=L size=28x28 at 0x7F6D222503D0>"
      ]
     },
     "metadata": {},
     "output_type": "display_data"
    }
   ],
   "source": [
    "image = Image.fromarray((X_generated[45]*255).cpu().detach().numpy())\n",
    "image.show()"
   ]
  },
  {
   "cell_type": "code",
   "execution_count": 30,
   "id": "873b3356",
   "metadata": {},
   "outputs": [
    {
     "data": {
      "image/png": "[encoded data removed]",
      "text/plain": [
       "<PIL.Image.Image image mode=L size=28x28 at 0x7F6D222736A0>"
      ]
     },
     "metadata": {},
     "output_type": "display_data"
    }
   ],
   "source": [
    "image = Image.fromarray((X_generated[4]*255).cpu().detach().numpy())\n",
    "image.show()"
   ]
  },
  {
   "cell_type": "code",
   "execution_count": null,
   "id": "4a5dd0c2",
   "metadata": {},
   "outputs": [],
   "source": []
  }
 ],
 "metadata": {
  "kernelspec": {
   "display_name": "Python 3",
   "language": "python",
   "name": "python3"
  },
  "language_info": {
   "codemirror_mode": {
    "name": "ipython",
    "version": 3
   },
   "file_extension": ".py",
   "mimetype": "text/x-python",
   "name": "python",
   "nbconvert_exporter": "python",
   "pygments_lexer": "ipython3",
   "version": "3.9.7"
  }
 },
 "nbformat": 4,
 "nbformat_minor": 5
}
